{
 "cells": [
  {
   "cell_type": "code",
   "execution_count": null,
   "id": "a9a278a4",
   "metadata": {},
   "outputs": [],
   "source": [
    "from glob import glob\n",
    "\n",
    "ass_paths = glob(\"../data/Subtitles/*.ass\")\n",
    "srt_paths = glob(\"../data/Subtitles/*.srt\")\n",
    "\n",
    "subtitles_paths = sorted(ass_paths + srt_paths)\n",
    "\n",
    "subtitles_paths[:5]"
   ]
  },
  {
   "cell_type": "code",
   "execution_count": null,
   "id": "553a5165",
   "metadata": {},
   "outputs": [],
   "source": [
    "import re\n",
    "\n",
    "scripts = []\n",
    "episode_num = []\n",
    "\n",
    "for path in subtitles_paths:\n",
    "    with open(path, \"r\", encoding=\"utf-8\", errors=\"ignore\") as file:\n",
    "        lines = file.readlines()\n",
    "\n",
    "        # Skip header lines if it's an .ass file\n",
    "        if path.endswith(\".ass\"):\n",
    "            lines = lines[27:]\n",
    "            rows = [\",\".join(line.split(\",\")[9:]) for line in lines]\n",
    "            rows = [line.replace(\"\\\\N\", \" \") for line in rows]\n",
    "            script = \" \".join(rows)\n",
    "\n",
    "        elif path.endswith(\".srt\"):\n",
    "            # Basic .srt parsing: skip subtitle numbers and timestamps\n",
    "            lines = [line.strip() for line in lines if line.strip()]\n",
    "            rows = [\n",
    "                line\n",
    "                for line in lines\n",
    "                if not re.match(r\"^\\d+$\", line)\n",
    "                and not re.match(r\"^\\d{2}:\\d{2}:\\d{2},\\d{3}\", line)\n",
    "            ]\n",
    "            script = \" \".join(rows)\n",
    "\n",
    "        # Try to extract episode number using regex\n",
    "        filename = path.split(\"/\")[-1]\n",
    "        match = re.search(r\"\\d+\", filename)\n",
    "        if match:\n",
    "            episode = int(match.group())\n",
    "            scripts.append(script)\n",
    "            episode_num.append(episode)\n",
    "        else:\n",
    "            print(f\"⚠️ Couldn't find episode number in filename: {filename}\")"
   ]
  },
  {
   "cell_type": "code",
   "execution_count": null,
   "id": "de3697c4",
   "metadata": {},
   "outputs": [],
   "source": [
    "%pip install pandas"
   ]
  },
  {
   "cell_type": "code",
   "execution_count": null,
   "id": "3c006410",
   "metadata": {},
   "outputs": [],
   "source": [
    "import pandas as pd\n",
    "\n",
    "df = pd.DataFrame.from_dict({\"episode\": episode_num, \"script\": scripts})"
   ]
  },
  {
   "cell_type": "code",
   "execution_count": null,
   "id": "7ca9b3d3",
   "metadata": {},
   "outputs": [],
   "source": [
    "df.head()"
   ]
  },
  {
   "cell_type": "code",
   "execution_count": null,
   "id": "3aafa956",
   "metadata": {},
   "outputs": [],
   "source": [
    "%pip install spacy"
   ]
  },
  {
   "cell_type": "code",
   "execution_count": null,
   "id": "8a09428b",
   "metadata": {},
   "outputs": [],
   "source": [
    "%pip spacy download en_core_web_trf\n"
   ]
  },
  {
   "cell_type": "code",
   "execution_count": null,
   "id": "295b98ba",
   "metadata": {},
   "outputs": [],
   "source": [
    "import spacy\n",
    "nlp = spacy.load(\"en_core_web_trf\")"
   ]
  }
 ],
 "metadata": {
  "kernelspec": {
   "display_name": ".venv",
   "language": "python",
   "name": "python3"
  },
  "language_info": {
   "codemirror_mode": {
    "name": "ipython",
    "version": 3
   },
   "file_extension": ".py",
   "mimetype": "text/x-python",
   "name": "python",
   "nbconvert_exporter": "python",
   "pygments_lexer": "ipython3",
   "version": "3.13.3"
  }
 },
 "nbformat": 4,
 "nbformat_minor": 5
}
