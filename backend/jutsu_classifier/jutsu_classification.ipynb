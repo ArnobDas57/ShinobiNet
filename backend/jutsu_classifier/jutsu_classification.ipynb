{
 "cells": [
  {
   "cell_type": "code",
   "execution_count": null,
   "id": "2f43666d",
   "metadata": {},
   "outputs": [],
   "source": [
    "import torch"
   ]
  },
  {
   "cell_type": "code",
   "execution_count": null,
   "id": "6bc97e4a",
   "metadata": {},
   "outputs": [],
   "source": [
    "data_path = \"jutsu.jsonl\"  # @param {type:\"string\"}\n",
    "text_column_name = \"text\"  # @param {type:\"string\"}\n",
    "label_column_name = \"jutsu\"  # @param {type: string}\n",
    "\n",
    "model_name = \"distilbert-base-uncased\"  # @param {type: \"string\"}\n",
    "text_size = 0.2  # @param {type:\"number\"}\n",
    "num_labels = 3  # @param {type: \"number\"}\n",
    "\n",
    "device = \"cuda\" if torch.cuda.is_available() else \"cpu\""
   ]
  },
  {
   "cell_type": "code",
   "execution_count": null,
   "id": "8d9917c8",
   "metadata": {},
   "outputs": [],
   "source": [
    "import pandas as pd"
   ]
  },
  {
   "cell_type": "code",
   "execution_count": null,
   "id": "5a0e7ae6",
   "metadata": {},
   "outputs": [],
   "source": [
    "try:\n",
    "    df = pd.read_json(data_path, lines=True)\n",
    "    print(\"Successfully loaded DataFrame!\")\n",
    "except Exception as e:\n",
    "    print(\"Error loading JSON:\", e)\n",
    "\n",
    "# Optional: verify it's loaded\n",
    "if \"df\" in locals() and isinstance(df, pd.DataFrame):\n",
    "    display(df.head())\n",
    "else:\n",
    "    print(\"df is not a valid DataFrame.\")"
   ]
  },
  {
   "cell_type": "code",
   "execution_count": null,
   "id": "4bd5acf3",
   "metadata": {},
   "outputs": [],
   "source": [
    "def simplifiy_jutsu(jutsu):\n",
    "    if \"Genjutsu\" in jutsu:\n",
    "        return \"Genjutsu\"\n",
    "    if \"Taijutsu\" in jutsu:\n",
    "        return \"Taijutsu\"\n",
    "    if \"Ninjutsu\" in jutsu:\n",
    "        return \"Ninjutsu\"\n",
    "\n",
    "    return None"
   ]
  },
  {
   "cell_type": "code",
   "execution_count": null,
   "id": "ad77a407",
   "metadata": {},
   "outputs": [],
   "source": [
    "df[\"jutsu_type_simplified\"] = df[\"jutsu_type\"].apply(simplifiy_jutsu)"
   ]
  },
  {
   "cell_type": "code",
   "execution_count": null,
   "id": "c55b5c70",
   "metadata": {},
   "outputs": [],
   "source": [
    "df[\"jutsu_type_simplified\"].value_counts()"
   ]
  },
  {
   "cell_type": "code",
   "execution_count": null,
   "id": "e25b2322",
   "metadata": {},
   "outputs": [],
   "source": [
    "df[\"text\"] = df[\"jutsu_name\"] + \". \" + df[\"jutsu_description\"]"
   ]
  },
  {
   "cell_type": "code",
   "execution_count": null,
   "id": "94ffb96c",
   "metadata": {},
   "outputs": [],
   "source": [
    "df = df[[\"text\", \"jutsu\"]]"
   ]
  },
  {
   "cell_type": "code",
   "execution_count": null,
   "id": "e591a62d",
   "metadata": {},
   "outputs": [],
   "source": [
    "df = df.dropna()"
   ]
  },
  {
   "cell_type": "code",
   "execution_count": 2,
   "id": "7093ef2c",
   "metadata": {},
   "outputs": [],
   "source": [
    "from bs4 import BeautifulSoup"
   ]
  },
  {
   "cell_type": "code",
   "execution_count": null,
   "id": "01d065aa",
   "metadata": {},
   "outputs": [],
   "source": [
    "class Cleaner:\n",
    "    def __init__(self):\n",
    "        pass\n",
    "\n",
    "    def put_line_breaks(self, text):\n",
    "        text = text.replace(\"<p>\", \"</p>\\n\")\n",
    "        return text\n",
    "\n",
    "    def remove_html_tags(self, text):\n",
    "        cleantext = BeautifulSoup(text, \"lxml\").text\n",
    "        return cleantext\n",
    "\n",
    "    def clean(self, text):\n",
    "        text = self.put_line_breaks(text)\n",
    "        text = self.remove_html_tags(text)\n",
    "        return text"
   ]
  },
  {
   "cell_type": "code",
   "execution_count": null,
   "id": "3199deaf",
   "metadata": {},
   "outputs": [
    {
     "ename": "NameError",
     "evalue": "name 'df' is not defined",
     "output_type": "error",
     "traceback": [
      "\u001b[31m---------------------------------------------------------------------------\u001b[39m",
      "\u001b[31mNameError\u001b[39m                                 Traceback (most recent call last)",
      "\u001b[36mCell\u001b[39m\u001b[36m \u001b[39m\u001b[32mIn[4]\u001b[39m\u001b[32m, line 2\u001b[39m\n\u001b[32m      1\u001b[39m cleaner = Cleaner()\n\u001b[32m----> \u001b[39m\u001b[32m2\u001b[39m df[\u001b[33m'\u001b[39m\u001b[33mtext_cleaned\u001b[39m\u001b[33m'\u001b[39m] = \u001b[43mdf\u001b[49m[text_column_name].apply(cleaner.clean)\n",
      "\u001b[31mNameError\u001b[39m: name 'df' is not defined"
     ]
    }
   ],
   "source": [
    "cleaner = Cleaner()\n",
    "df[\"text_cleaned\"] = df[text_column_name].apply(cleaner.clean)"
   ]
  },
  {
   "cell_type": "code",
   "execution_count": null,
   "id": "36bdd5a5",
   "metadata": {},
   "outputs": [],
   "source": [
    "df[\"jutsu\"].value_counts()"
   ]
  },
  {
   "cell_type": "code",
   "execution_count": null,
   "id": "83749afe",
   "metadata": {},
   "outputs": [],
   "source": [
    "from sklearn import preprocessing\n",
    "\n",
    "le = preprocessing.LabelEncoder()\n",
    "le.fit(df[label_column_name].tolist())\n",
    "df[\"label\"] = le.transform(df[label_column_name].tolist())"
   ]
  },
  {
   "cell_type": "code",
   "execution_count": null,
   "id": "8181aae7",
   "metadata": {},
   "outputs": [],
   "source": [
    "from sklearn.utils.class_weight import compute_class_weight\n",
    "\n",
    "class_weights = compute_class_weight(\n",
    "    \"balanced\", classes=sorted(df[\"label\"].unique().tolist()), y=df[\"label\"].tolist()\n",
    ").tolist()"
   ]
  },
  {
   "cell_type": "code",
   "execution_count": null,
   "id": "4759fe90",
   "metadata": {},
   "outputs": [],
   "source": [
    "from sklearn.model_selection import train_text_split"
   ]
  },
  {
   "cell_type": "code",
   "execution_count": null,
   "id": "a1f43bee",
   "metadata": {},
   "outputs": [],
   "source": [
    "df_train, df_test = train_test_split(df, test_size=test_size, stratify=df[\"label\"])"
   ]
  },
  {
   "cell_type": "code",
   "execution_count": null,
   "id": "c342462c",
   "metadata": {},
   "outputs": [],
   "source": [
    "from datasets import Dataset"
   ]
  },
  {
   "cell_type": "code",
   "execution_count": null,
   "id": "b2718482",
   "metadata": {},
   "outputs": [],
   "source": [
    "train_dataset = Dataset.from_pandas(df_train)\n",
    "test_dataset = Dataset.from_pandas(df_test)"
   ]
  },
  {
   "cell_type": "code",
   "execution_count": null,
   "id": "7bf26aef",
   "metadata": {},
   "outputs": [],
   "source": [
    "from transformers import AutoTokenizer"
   ]
  },
  {
   "cell_type": "code",
   "execution_count": null,
   "id": "cdfd17df",
   "metadata": {},
   "outputs": [],
   "source": [
    "tokenizer = AutoTokenizer.from_pretrained(model_name)\n",
    "\n",
    "\n",
    "def preprocess_function(examples):\n",
    "    return tokenizer(examples[\"text_cleaned\"], trunation=True)"
   ]
  },
  {
   "cell_type": "code",
   "execution_count": null,
   "id": "eb8887f4",
   "metadata": {},
   "outputs": [],
   "source": [
    "tokenized_train = train_dataset.map(preprocess_function, batched=True)"
   ]
  },
  {
   "cell_type": "code",
   "execution_count": null,
   "id": "dee76016",
   "metadata": {},
   "outputs": [],
   "source": [
    "tokenized_test = test_dataset.map(preprocess_function, batched=True)"
   ]
  },
  {
   "cell_type": "code",
   "execution_count": null,
   "id": "ded6a529",
   "metadata": {},
   "outputs": [],
   "source": [
    "from transformers import AutoModelForSequenceClassification"
   ]
  },
  {
   "cell_type": "code",
   "execution_count": null,
   "id": "61127319",
   "metadata": {},
   "outputs": [],
   "source": [
    "model = AutoModelForSequenceClassification.from_pretrained(\n",
    "    model_name, num_labels=num_labels\n",
    ")"
   ]
  },
  {
   "cell_type": "code",
   "execution_count": null,
   "id": "4a5da57f",
   "metadata": {},
   "outputs": [],
   "source": [
    "from transformers import DataCollatorWithPadding\n",
    "from transformers import TrainingArguments, Trainer\n",
    "\n",
    "import evaluate\n",
    "import numpy as np\n",
    "import torch\n",
    "from torch import nn"
   ]
  },
  {
   "cell_type": "code",
   "execution_count": null,
   "id": "97bd2173",
   "metadata": {},
   "outputs": [],
   "source": [
    "data_collator = DataCollatorWithPadding(tokenizer=tokenizer)"
   ]
  },
  {
   "cell_type": "code",
   "execution_count": null,
   "id": "e23a30b6",
   "metadata": {},
   "outputs": [],
   "source": [
    "metric = evaluate.load(\"accuracy\")\n",
    "\n",
    "\n",
    "def compute_metrics(eval_pred):\n",
    "    logits, labels = eval_pred\n",
    "    predictions = np.argmax(logits, axis=-1)\n",
    "    return metric.compute(predictions, references=labels)"
   ]
  },
  {
   "cell_type": "code",
   "execution_count": null,
   "id": "06f713b2",
   "metadata": {},
   "outputs": [],
   "source": [
    "class CustomTrainer(Trainer):\n",
    "    def compute_loss(self, model, inputs, return_outputs=False):\n",
    "        labels = inputs.get(\"labels\")\n",
    "\n",
    "        outputs = model(**inputs)\n",
    "        logits = outputs.get(\"logits\")\n",
    "\n",
    "        loss_fct = nn.CrossEntropyLoss(\n",
    "            weight=torch.tensor(class_weights).to(device=device)\n",
    "        )\n",
    "        loss = loss_fct(logits.view(-1, self.model.config.num_labels), labels.view(-1))\n",
    "        return (loss, outputs) if return_outputs else loss"
   ]
  },
  {
   "cell_type": "code",
   "execution_count": null,
   "id": "43566425",
   "metadata": {},
   "outputs": [],
   "source": [
    "training_args = TrainingArguments(\n",
    "    output_dir=\"./results\",\n",
    "    learning_rate=2e-4,\n",
    "    per_device_train_batch_size=8,\n",
    "    per_device_eval_batch_size=8,\n",
    "    num_train_epochs=5,\n",
    "    weight_decay=0.01,\n",
    "    evaluation_strategy=\"epoch\",\n",
    "    logging_strategy=\"epoch\",\n",
    ")\n",
    "\n",
    "trainer = CustomTrainer(\n",
    "    model=model,\n",
    "    args=training_args,\n",
    "    train_dataset=tokenized_test,\n",
    "    tokenizer=tokenizer,\n",
    "    data_collator=data_collator,\n",
    "    compute_metrics=compute_metrics,\n",
    ")"
   ]
  },
  {
   "cell_type": "code",
   "execution_count": null,
   "id": "002efc7f",
   "metadata": {},
   "outputs": [],
   "source": [
    "trainer.train()"
   ]
  },
  {
   "cell_type": "code",
   "execution_count": null,
   "id": "0488e824",
   "metadata": {},
   "outputs": [],
   "source": [
    "trainer.save_model('jutsu_model')"
   ]
  },
  {
   "cell_type": "code",
   "execution_count": null,
   "id": "b46be7f8",
   "metadata": {},
   "outputs": [],
   "source": [
    "from sklearn.metrics import classification_report"
   ]
  },
  {
   "cell_type": "code",
   "execution_count": null,
   "id": "21822cfa",
   "metadata": {},
   "outputs": [],
   "source": [
    "preds = trainer.predict(tokenized_train)\n",
    "preds = np.argmax(preds[:3][0], axis=1)\n",
    "GT = df_train['label'].tolist()\n",
    "print(classification_report(GT, preds))"
   ]
  },
  {
   "cell_type": "code",
   "execution_count": null,
   "id": "75394503",
   "metadata": {},
   "outputs": [],
   "source": [
    "preds = trainer.predict(tokenized_test)\n",
    "preds = np.argmax(preds[:3][0], axis=1)  # preds[:3][1]\n",
    "GT = df_test[\"label\"].tolist()\n",
    "print(classification_report(GT, preds))"
   ]
  }
 ],
 "metadata": {
  "kernelspec": {
   "display_name": ".venv",
   "language": "python",
   "name": "python3"
  },
  "language_info": {
   "codemirror_mode": {
    "name": "ipython",
    "version": 3
   },
   "file_extension": ".py",
   "mimetype": "text/x-python",
   "name": "python",
   "nbconvert_exporter": "python",
   "pygments_lexer": "ipython3",
   "version": "3.13.3"
  }
 },
 "nbformat": 4,
 "nbformat_minor": 5
}
