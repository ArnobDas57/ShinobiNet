{
 "cells": [
  {
   "cell_type": "code",
   "execution_count": null,
   "id": "aedd2901",
   "metadata": {},
   "outputs": [],
   "source": [
    "%pip install transformers"
   ]
  },
  {
   "cell_type": "code",
   "execution_count": 2,
   "id": "18e56500",
   "metadata": {},
   "outputs": [
    {
     "name": "stderr",
     "output_type": "stream",
     "text": [
      "c:\\Users\\arnob\\OneDrive\\Desktop\\Projects\\shinobinet\\.venv\\Lib\\site-packages\\tqdm\\auto.py:21: TqdmWarning: IProgress not found. Please update jupyter and ipywidgets. See https://ipywidgets.readthedocs.io/en/stable/user_install.html\n",
      "  from .autonotebook import tqdm as notebook_tqdm\n"
     ]
    }
   ],
   "source": [
    "import pandas as pd\n",
    "import numpy as np\n",
    "import matplotlib.pyplot as plt\n",
    "import seaborn as sns\n",
    "from glob import glob\n",
    "from transformers import pipeline\n",
    "\n",
    "from nltk import sent_tokenize\n",
    "import nltk\n",
    "from time import time\n",
    "import matplotlib.pyplot as plt\n",
    "import torch"
   ]
  },
  {
   "cell_type": "code",
   "execution_count": null,
   "id": "5734459c",
   "metadata": {},
   "outputs": [],
   "source": [
    "nltk.download('punkt')"
   ]
  },
  {
   "cell_type": "code",
   "execution_count": null,
   "id": "779c1a80",
   "metadata": {},
   "outputs": [],
   "source": [
    "subtitles_paths = sorted(glob(\"data/Subtitles/*.ass\"))"
   ]
  },
  {
   "cell_type": "code",
   "execution_count": null,
   "id": "b53b1245",
   "metadata": {},
   "outputs": [],
   "source": [
    "scripts = []\n",
    "episode_num = []\n",
    "\n",
    "for path in subtitles_paths:\n",
    "\n",
    "    with open(path, \"r\") as file:\n",
    "        lines = file.readlines()\n",
    "        lines = lines[27:]\n",
    "\n",
    "        rows = [\",\".join(line.split(\",\")[9:1]) for line in lines]\n",
    "\n",
    "    rows = [line.replace(\"\\\\N\", \" \") for line in rows]\n",
    "    script = \" \".join(rows)\n",
    "\n",
    "    episode = int(path.split(\"-\")[1].split(\".\")[0].strip())\n",
    "\n",
    "    scripts.append(script)\n",
    "    episode_num.append(episode)"
   ]
  },
  {
   "cell_type": "code",
   "execution_count": null,
   "id": "16618bc1",
   "metadata": {},
   "outputs": [],
   "source": [
    "df = pd.DataFrame.from_dict({'episode':episode_num, 'script':scripts})\n",
    "df.head()"
   ]
  },
  {
   "cell_type": "code",
   "execution_count": null,
   "id": "1c7cb6ce",
   "metadata": {},
   "outputs": [],
   "source": [
    "device = 0 if torch.cuda.is_available() else \"cpu\""
   ]
  },
  {
   "cell_type": "code",
   "execution_count": null,
   "id": "d46f39ff",
   "metadata": {},
   "outputs": [],
   "source": [
    "from transformers import pipeline\n",
    "\n",
    "theme_classifier = pipeline(\n",
    "    \"zero-shot-classification\", model=\"facebook/bart-large-mnli\", device=device\n",
    ")"
   ]
  },
  {
   "cell_type": "code",
   "execution_count": null,
   "id": "2f8dff08",
   "metadata": {},
   "outputs": [],
   "source": [
    "theme_classifier(\n",
    "    \"I have a problem with my iphone that needs to be resolved asap!\",\n",
    "    candidate_labels=[\"urgent\", \"not urgent\", \"phone\", \"tablet\", \"computer\"],\n",
    "    multi_label=False,\n",
    ")"
   ]
  },
  {
   "cell_type": "code",
   "execution_count": null,
   "id": "ade1d586",
   "metadata": {},
   "outputs": [],
   "source": [
    "def get_themes(script):\n",
    "    script_sentences = sent_tokenize(script)\n",
    "\n",
    "    # Batch sentences\n",
    "    script_batches = []\n",
    "    sentence_batch_size = 20\n",
    "    for index in range(0, len(script_sentences), sentence_batch_size):\n",
    "        sent = \" \".join(script_sentences[index : index + sentence_batch_size])\n",
    "        script_batches.append(sent)\n",
    "\n",
    "    # Run model\n",
    "    candidate_labels = [\n",
    "        \"friendship\",\n",
    "        \"hope\",\n",
    "        \"sacrifice\",\n",
    "        \"battle\",\n",
    "        \"self development\",\n",
    "        \"betrayal\",\n",
    "        \"love\",\n",
    "        \"dialogue\",\n",
    "    ]\n",
    "    emotion_output = theme_classifier(\n",
    "        script_batches, candidate_labels, multi_label=True\n",
    "    )\n",
    "\n",
    "    # Wrangle Output\n",
    "    emotions = {}\n",
    "    for output in emotion_output:\n",
    "        for label, score in zip(output[\"labels\"], output[\"scores\"]):\n",
    "            if label not in emotions:\n",
    "                emotions[label] = []\n",
    "            emotions[label].append(score)\n",
    "\n",
    "    emotions = {key: np.mean(np.array(value)) for key, value in emotions.items()}\n",
    "\n",
    "    return emotions"
   ]
  },
  {
   "cell_type": "code",
   "execution_count": null,
   "id": "132af715",
   "metadata": {},
   "outputs": [],
   "source": [
    "output_emotions = df[\"script\"].apply(get_themes)"
   ]
  },
  {
   "cell_type": "code",
   "execution_count": null,
   "id": "f8d706be",
   "metadata": {},
   "outputs": [],
   "source": [
    "emotion_df = pd.DataFrame(output_emotions.tolist())\n"
   ]
  },
  {
   "cell_type": "code",
   "execution_count": null,
   "id": "2375f15c",
   "metadata": {},
   "outputs": [],
   "source": [
    "emotion_df.head()"
   ]
  },
  {
   "cell_type": "code",
   "execution_count": null,
   "id": "6cb9d2c1",
   "metadata": {},
   "outputs": [],
   "source": [
    "df[emotion_df.columns] = emotion_df"
   ]
  },
  {
   "cell_type": "code",
   "execution_count": null,
   "id": "e0101bc9",
   "metadata": {},
   "outputs": [],
   "source": [
    "theme_output = df.drop([\"episode\", \"script\", \"dialogue\"], axis=1).sum().reset_index()\n",
    "theme_output.columns = [\"theme\", \"score\"]\n",
    "theme_output"
   ]
  }
 ],
 "metadata": {
  "kernelspec": {
   "display_name": ".venv",
   "language": "python",
   "name": "python3"
  },
  "language_info": {
   "codemirror_mode": {
    "name": "ipython",
    "version": 3
   },
   "file_extension": ".py",
   "mimetype": "text/x-python",
   "name": "python",
   "nbconvert_exporter": "python",
   "pygments_lexer": "ipython3",
   "version": "3.13.3"
  }
 },
 "nbformat": 4,
 "nbformat_minor": 5
}
